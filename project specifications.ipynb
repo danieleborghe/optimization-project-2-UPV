{
 "cells": [
  {
   "cell_type": "markdown",
   "metadata": {
    "id": "C42sToH05ncI"
   },
   "source": [
    "<div align=\"left\">\n",
    "<img src=\"https://licensebuttons.net/l/by-nc-sa/3.0/88x31.png\" align=\"right\">\n",
    "<p align=\"left\"><b>Autor: Víctor Sánchez Anguix</b></p>\n",
    "</div>\n",
    "<img align=\"left\" width=\"30%\" src=\"https://www.inf.upv.es/www/etsinf/wp-content/uploads/2017/02/ETSInf_PRINCIPAL_V-horizontal.png\"/> <img width=\"30%\" src=\"https://www.upv.es/perfiles/pas-pdi/imagenes/marca_UPV_principal_negro150.png\" align=\"right\"/>\n"
   ]
  },
  {
   "cell_type": "markdown",
   "metadata": {
    "id": "wXkQslVrh2mS"
   },
   "source": [
    "# Optimization: Project II 2023\n"
   ]
  },
  {
   "cell_type": "markdown",
   "metadata": {
    "id": "DDD1TcMGhYyB"
   },
   "source": [
    "In this notebook we define, in general lines, the second project of the course. The project constitutes the application of your knowledge about genetic algorithms applied to realistic optimization problems.\n",
    "\n",
    "First we describe the problem to be solved. That is, the scenario in which we place ourselves as analysts. After that, we describe the details of the submission.\n",
    "\n",
    "Remember that for this project you should work in teams of 5 students. In fact, teamwork is recommended due to the size of the project."
   ]
  },
  {
   "cell_type": "markdown",
   "metadata": {
    "id": "0FgAqrSshUZw"
   },
   "source": [
    "# Scenario"
   ]
  },
  {
   "cell_type": "markdown",
   "metadata": {
    "id": "RpsLlUWP6f0F"
   },
   "source": [
    "In this section, we describe in detail both the problem to be solved, as well as some particularities about the organization of the company you have joined."
   ]
  },
  {
   "cell_type": "markdown",
   "metadata": {
    "id": "wVY3epF36cx1"
   },
   "source": [
    "##Introduction"
   ]
  },
  {
   "cell_type": "markdown",
   "metadata": {
    "id": "uQN4IqKD44OT"
   },
   "source": [
    "The *Traveling Salesman Problem* (*TSP*) is a popular problem that involves a salesman (or vehicle) visiting a set of locations once, starting and ending at the same location. Although the problem may seem abstract, the problem appears in some form or variant in many logistic and transportation problems.\n",
    "\n",
    "There are as many variants of the *TSP* problem as prospective scenarios in the real world. One of these variants is the *Multiple Traveling Salesman Problem* (*mTSP*) that is an extension of the TSP problem where multiple vehicles are considered.\n",
    "\n",
    "The problem is formalized as follows. Imagine that we have a start location named $D$, which represents a depot. At the depot, there are $j=\\{1,\\dots,m\\}$ vehicles that can be loaded with goods. The company has a list of $i=\\{1,\\dots,n\\}$ locations to visit. The following figure exemplifies a *mTSP* scenario where the company has a depot $D$, 10 locations to visit, and 3 vehicles.\n",
    "\n",
    "<center>\n",
    "  <img src=\"https://gitlab.com/drvicsana/ga-project-2023/-/raw/main/images/mtsp1.png\" width=\"50%\"/>\n",
    "</center>\n",
    "\n",
    "\n",
    "The challenge is finding $m$ tours, one for each vehicle, so that each location is visited exactly once and each vehicle starts and ends the route at the depot $D$. Typically, one aims to minize the sum of the tours' length. The following figures show an example of a solution (not necessarily optimal) for the mTSP example above. One of the vehicles (green) travels from $D$ to 9, then to 10, 8, 7 and finally $D$ again. The yellow vehicle travles from $D$ to 6, then 5, and finally $D$. The grey vehicle travels from $D$ to 3, then to 4, from 4 to 2, and from 2 to 1, to finish its route at $D$. As it can be observed, every location is visited exactly once (by any of the vehicles) and all the tours start and finish at $D$.\n",
    "\n",
    "<center>\n",
    "  <img src=\"https://gitlab.com/drvicsana/ga-project-2023/-/raw/main/images/mtsp2.png\" width=\"50%\"/>\n",
    "</center>\n",
    "\n",
    "As mentioned, a common metric employed to assess the quality of a *mTSP* is the total distance covered by each of the vehicles/tours. Let $C_j \\subset C \\cup \\{D\\}$ be the subset of locations visited by vehicle $j$, and $T_j=$ be a tour of elements in $C_j$. To simplify the notation, let us assume that $T_j(k)$ represents the $k$-th location in the tour. Thus, the quality of the *mTSP* can be formalized as:\n",
    "\n",
    "$f=\\overset{m}{\\underset{j=1}{\\sum}} \\overset{|T_j|}{\\underset{k=1}{\\sum}} D(T_j(k), T_j(k+1))$\n",
    "\n",
    "\n",
    "\n"
   ]
  },
  {
   "cell_type": "markdown",
   "metadata": {
    "id": "IRVCTuBZXGqY"
   },
   "source": [
    "# Objectives and project phases"
   ]
  },
  {
   "cell_type": "markdown",
   "metadata": {
    "id": "cw_AvX5GXO03"
   },
   "source": [
    "The objective of the project is: **To program a genetic algorithm that is able to find optimal or near-optimal solutions for the given problem**. The project consists of the following phases:\n",
    "\n",
    "\n",
    "\n",
    "1.   Review of relevant articles.\n",
    "2.   Design of one or several genetic algorithms for the problem.\n",
    "3.   Implementation of one or several genetic algorithms.\n",
    "4.   Optimization of the hyperparameters of the genetic algorithm to find the best implementation.\n",
    "5.   Project report.\n",
    "6.   Submission of your best genetic algorithm to a tournament among your classmates.\n",
    "\n",
    "\n",
    "\n",
    "Do not worry, as you will not be alone in this project, as you and four other colleagues (5 members) will form a team for this project."
   ]
  },
  {
   "cell_type": "markdown",
   "metadata": {
    "id": "qZPslTpDrcZu"
   },
   "source": [
    "## Available data\n",
    "\n",
    "To test the performance of the genetic algorithm, as well as to determine the best configuration, 5 problem instances with different characteristics are attached. Each of these instances describes a mTSP problem. The instances can be found at [following address](https://gitlab.com/drvicsana/ga-project-2023/-/tree/main/instances). Specifically, each instance is a *.txt* file with the following format:\n",
    "\n",
    "```\n",
    "locations    17\n",
    "vehicles    3\n",
    "\n",
    "9999    3    5    48    48    8    8    5    5    3    3    0    3    5    8    8    5\n",
    "3    9999    3    48    48    8    8    5    5    0    0    3    0    3    8    8    5\n",
    "5    3    9999    72    72    48    48    24    24    3    3    5    3    0    48    48    24\n",
    "48    48    74    9999    0    6    6    12    12    48    48    48    48    74    6    6    12\n",
    "48    48    74    0    9999    6    6    12    12    48    48    48    48    74    6    6    12\n",
    "8    8    50    6    6    9999    0    8    8    8    8    8    8    50    0    0    8\n",
    "8    8    50    6    6    0    9999    8    8    8    8    8    8    50    0    0    8\n",
    "5    5    26    12    12    8    8    9999    0    5    5    5    5    26    8    8    0\n",
    "5    5    26    12    12    8    8    0    9999    5    5    5    5    26    8    8    0\n",
    "3    0    3    48    48    8    8    5    5    9999    0    3    0    3    8    8    5\n",
    "3    0    3    48    48    8    8    5    5    0    9999    3    0    3    8    8    5\n",
    "0    3    5    48    48    8    8    5    5    3    3    9999    3    5    8    8    5\n",
    "3    0    3    48    48    8    8    5    5    0    0    3    9999    3    8    8    5\n",
    "5    3    0    72    72    48    48    24    24    3    3    5    3    9999    48    48    24\n",
    "8    8    50    6    6    0    0    8    8    8    8    8    8    50    9999    0    8\n",
    "8    8    50    6    6    0    0    8    8    8    8    8    8    50    0    9999    8\n",
    "5    5    26    12    12    8    8    0    0    5    5    5    5    26    8    8    9999\n",
    "```\n",
    "\n",
    "where the first line specifies the number of locations involved in the mTSP problem. It is assumed that the first location is the depot, and all vehicles depart from the same vehicle. The second line is the number of vehicles. The third line is always blank. Then, from the fourth line we have the matrix of distances between each pair of origin and destination. Each line $i$ represents the distance from $i$ to each of the other locations. Please, realize that distances are asymmetric and the distance from A to B may not be the same than the distance from B to A as it happens in real life.  Please, also realize that the 4 whitespaces are employed to separate information.\n",
    "\n",
    "Ideally, the genetic algorithm should be designed to have a consistent and good behavior regardless of the problem instance being solved. Hence, we encourage to employ different instances when optimizing the configuration of the genetic algorithm."
   ]
  },
  {
   "cell_type": "markdown",
   "metadata": {
    "id": "N6Ma2-u4X4iX"
   },
   "source": [
    "## Implementation requirements"
   ]
  },
  {
   "cell_type": "markdown",
   "metadata": {
    "id": "bEA4MjhgYfMU"
   },
   "source": [
    "The **developed code** will be submitted in a *.zip* file that will be uploaded to PoliformaT.\n",
    "\n",
    "As a general rule, you should implement a file named *GA.py* that contains a genetic algorithm with the following characteristics:\n",
    "* The *GA.py* should contain a Python class, named as *GA* that implements the logic of the genetic algorithm to be submitted.\n",
    "* The constructor of the genetic algorithm will take two compulsory arguments. First, the path to the file that contains the problem to be solved. The file will have the format indicated at the *Available Data* section. Second, a maximum computation time.\n",
    "* The constructor can take other optional arguments to configure the algorithm. However, the default values for these parameters should be the best values found in the experimental optimization of the algorithm. This may be useful to reuse code and logic of the genetic algorithm.\n",
    "* The class will implement the method *get_best_solution*, that will return the best solution found up to this point in the genetic algorithm (the run may have not finished!). The method will return a list of lists, where each list contains the tour taken by each vehicle. The tour should include the depot as the initial and final locations. **Otherwise, your submission will not participate in the tournament**.\n",
    "* The method *run* will implement the logic of the genetic algorithm (i.e., population initialization, evolutionary loop, etc.).\n",
    "* The class will implement the *read_problem_instance* method, that will read the information of the problem to be solved. **No precomputations or search are allowed in this method**.\n",
    "\n",
    "A template for the file *GA.py* is included as part of the repository of this project. Feel free to add more methods as you need them. Do not modify the basic structure of the methods already described in the template.\n",
    "\n",
    "\n",
    "You will also submit a file named *experiments.py*. In this file, you will include all the code developed for optimizing the configuration of the genetic algorithm. This includes the selection of crossover and mutation operators, the selection and replacement strategies, as well as their respective hyperparameters. The experimentation should adhere to the following rules:\n",
    "\n",
    "* A time limit of 180 seconds will be employed per run of the genetic algorithm. This limit includes reading the instance, precomputations, initialization of the genetic algorithm and its main logic. The project includes a template, named as *tester.py* that shows how the execution of the genetic algorithm (following the previous template) can be bounded in time.\n",
    "* The metric employed to assess the quality of the genetic algorithm in a single run will be the **best fitness** found by the genetic algorithm in that run. In case of a tie, we will employ the computation time.\n",
    "* Each configuration tested (specific combination of hyperparameters and genetic operators) should be tested *n* times. This way, we can estimate the **average** fitness obtained by the genetic algorithm. It is important to test the same configuration several times, as genetic algorithms have a stochastic behavior.\n",
    "* When comparing different configurations, it is important that populations are the same. Populations can be different for each run. That is, if I repeat each configuration 50 times, the initial population for each of the 50 runs can be different. However, when comparing two configurations, the population of the $i$-th run should be the same for both.\n",
    "* Obtained results will be attached and summarized as part of the project report.\n",
    "* The experiments' code should be executable and replicable.\n",
    "* To optimize the hyperparameters and configuration of the genetic algorithm you are encouraged to use grid search, random search, or bayesian optimization. Code should be provided for those.\n",
    "\n",
    "\n",
    "The templates of the project can be found in the following [repository](https://gitlab.com/drvicsana/ga-project-2023)."
   ]
  },
  {
   "cell_type": "markdown",
   "metadata": {
    "id": "byoS6nNF3o6I"
   },
   "source": [
    "##Tournament description\n",
    "\n",
    "As mentioned, your best genetic algorithm will participate in a tournament where you will face some baseline strategies and the best genetic algorithms of the other teams. The main goal of this tournament is determining and awarding the best performing submissions.\n",
    "\n",
    "In order to participate in the tournament, your submission should comply with the specifications of the template *GA.py*.\n",
    "\n",
    "The baselines that will participate in the tournament are:\n",
    "* A random search algorithm that randomly creates solutions. Locations are shuffled and randomly assigned to vehicles. The pseudo-code is:\n",
    "```\n",
    "Initialize empty routes for each vehicle\n",
    "Shuffle locations to be assigned\n",
    "For each location:\n",
    "    Randomly assign to a vehicle and append it to its route\n",
    "Complete routes with the depot at the start and end\n",
    "```\n",
    "* A greedy heuristic. The pseudo-code is:\n",
    "```\n",
    "Initialize empty routes for each vehicle\n",
    "Add a random location to the route of each vehicle\n",
    "While there are unassigned locations:\n",
    "    Determine and assign the location that increases less the fitness function\n",
    "```\n",
    "\n",
    "A question that may arise is how the tournament will be carried out. A set of test instances will be employed for the tournament. Test instances will not be necessarily the same than the ones provided at the repository and they won't be available for testing. This is done to avoid teams overfitting their algorithms to the available instances or making optimizations solely based on the structure of the available instances. Remember, that the goal is designing genetic algorithms whose performance is consistent among different instances.\n",
    "\n",
    "For each combination of test instance and algorithm, a total of 10 executions will be run. Therefore, the total number of executions will be $number\\_algorithms \\times number\\_test\\_instances \\times 10$. Then, the average fitness and average time will be computed for each combination. The following table shows an example for 3 algorithms and 5 test instances.\n",
    "\n",
    "|Algorithm|Test instance | Avg. fitness | Avg. time |\n",
    "| --- | --- | --- | --- |\n",
    "| alg1 | test01 | 12.45 | 167.5 |\n",
    "| alg1 | test02 | 562.12 | 179.87 |\n",
    "| alg1 | test03 | 2444.11 | 179.23 |\n",
    "| alg1 | test04 | 850.34 | 120.24 |\n",
    "| alg1 | test05 | 40.15 | 112.3 |\n",
    "| alg2 | test01 | 24.56 | 180.0 |\n",
    "| alg2 | test02 | 456.24 | 175.16 |\n",
    "| alg2 | test03 | 3200.1 | 169.83 |\n",
    "| alg2 | test04 | 700.12 | 170.24 |\n",
    "| alg2 | test05 | 35.23 | 115.67 |\n",
    "| alg3 | test01 | 34.45 | 162.9 |\n",
    "| alg3 | test02 | 500.88 | 177.17 |\n",
    "| alg3 | test03 | 4000.25 | 179.13 |\n",
    "| alg3 | test04 | 400.15 | 128.24 |\n",
    "| alg3 | test05 | 67.6 | 146.23 |\n",
    "\n",
    "\n",
    "\n",
    "As problem instances have different scales (i.e., different number of vehicles, locations, etc.), averaging the fitness of all instances would not be fair and could potentially drag comparison. To avoid this problem, we follow the recommendations of Derrac, García, Molina and Herrera (2011) for multiproblem analysis. Thus we calculate the rank of each algorithm for each problem instance using the fitness as a first criteria and time in the case of ties. Assuming a minimization problem, the resulting table used for the comparison would be:\n",
    "\n",
    "|Test instance|Rank alg1 | Rank alg2 | Rank alg3 |\n",
    "| --- | --- | --- | --- |\n",
    "|test01| 1 | 2 | 3 |\n",
    "|test02| 2 | 1 | 3 |\n",
    "|test03| 1 | 2 | 3 |\n",
    "|test04| 3 | 1 | 2 |\n",
    "|test05| 2 | 1 | 3 |\n",
    "\n",
    "Then, the average rank for each algorithm is calculated:\n",
    "\n",
    "| Algorithm | Average rank |\n",
    "| --- | --- |\n",
    "| alg2 | 1.4 |\n",
    "| alg1 | 1.8 |\n",
    "| alg3 | 2.8 |\n",
    "\n",
    "The best performing algorithm in this case would be alg2, followed by alg1 and alg3.\n",
    "\n",
    "Some frequently asked questions that we have received from previous years:\n",
    "\n",
    "\n",
    "* **Can my genetic algorithm carry out some precalculations in the class constructor?** No. All the major computation should be carried out in the *run* method. Otherwise, your submission will not participate in the tournament.\n",
    "* **What Python version will be employed in the tournament?** 3.10.8\n",
    "* **Can my genetic algorithm use external libraries or packages for developing the genetic algorithm?** Only those packages that are available by default on Python (no pip install required. https://docs.python.org/3/library/), Numpy, Scipy, and Scikit.\n",
    "* **Can my genetic algorithm use multithread programming?** No, all the algorithm should be executed in a single thread and the execution should be sequential. That is, no parallelism is allowed.\n",
    "* **Can my genetic algorithm use all the RAM memory that I want?** No, a maximum of 2GB of RAM is allowed for the execution of the genetic algorithm.\n",
    "* **Can my genetic algorithm reuse or store information between executions of the genetic algorithm?** No, all runs should start from scratch with no information from previous runs.\n",
    "* **Can my genetic algorithm write data or information to the hard-disk?** No, all data should be present in the RAM memory of the program.\n",
    "\n",
    "\n",
    "## References\n",
    "\n",
    "*Derrac, J., García, S., Molina, D., & Herrera, F. (2011). A practical tutorial on the use of nonparametric statistical tests as a methodology for comparing evolutionary and swarm intelligence algorithms. Swarm and Evolutionary Computation, 3-18.*\n",
    "\n",
    "\n",
    "\n",
    "\n"
   ]
  },
  {
   "cell_type": "markdown",
   "metadata": {
    "id": "SSy_3WbDlrkB"
   },
   "source": [
    "## Project report"
   ]
  },
  {
   "cell_type": "markdown",
   "metadata": {
    "id": "SUticURulyso"
   },
   "source": [
    "An **article** should be submitted in PDF format with a maximum length of **6 pages**, using the IEEE template available at [following link](https://www.ieee.org/content/dam/ieee-org/ieee/web/org/conferences/conference-template-a4.docx). Stick to the format of the template as much as possible. The language of the article shall be **English**. The sections that should appear (as a minimum) in the article are:\n",
    "* Abstract: This section will describe between 150 and 250 words the genetic algorithm proposal that has been made, as well as the results obtained in the experiments performed.\n",
    "* Introduction: This section will briefly explain the problem to be solved, the importance of this problem for the organization, and the type of techniques to be used for its resolution. Finally,  how the article is organized in sections will be described.\n",
    "* Related work: At least one academic paper per member, related to the problem being solved, will be reviewed. The review will be at a high level, commenting on the problem to be solved, the type of technique used to solve it, the experiments carried out, and the differences and similarities with the model proposed in your article.The works will appear properly cited in the text, as well as in the bibliography of the article using the format proposed in the template. A maximum length of **1 page**.\n",
    "* Design of the submitted genetic algorithm: More specifically, the following elements:\n",
    "    * Chromosome representation (genotype): How phenotypes are encoded internally in the proposed genetic algorithm.\n",
    "    * Crossover operator: The chosen crossover operator as well as their respective hyperparameters should be described in detail.\n",
    "    * Mutation operator: The chosen mutation operator and associated hyperparameters should be explained in detail.\n",
    "    * Selection strategy: The chosen selection operator and associated hyperparameters should be explained in detail.\n",
    "    * Replacement strategy: The chosen replacement strategy for the population and associated hyperparameters should be explained in detail\n",
    "    * Any other special operators employed (e.g., diversity, special initial population, etc).\n",
    "    * General scheme followed by the genetic algorithm: The flow and general scheme followed in the programmed genetic algorithm should be explained.\n",
    "* Experiments: First you should describe what the objective of the experiments is, and after that describe the set of experiments designed: configurations tested, replications carried out, and comparison strategy. The results shall be reported with appropriate tables and/or graphs.  The conclusions of the experiments shall be supported by statistical significance tests.\n",
    "* Conclusions: Summarize the problem posed, the algorithm proposed, the experiments carried out, and the conclusions drawn from them. Possible improvements on your model, as well as on the experiments carried out, will also be described.\n",
    "* References: References used in the article to any external resource that has been cited.\n",
    "\n",
    "#Assessment rubric\n",
    "\n",
    "Next, we attach the assessment rubric for the project. It should be highlighted that the rubric is **approximate**, as it is **IMPOSSIBLE** to identify all prospective scenarios and cases in an open project beforehand.\n",
    "\n",
    "| Aspect                                       | <50%                                                                                                                                                                                      | 50-69%                                                                                                                                                                                                                  | 70-89%                                                                                                                                                                                                                        | 90-100%                                                                                                                                                                                               |\n",
    "|-----------------------------------------------|-------------------------------------------------------------------------------------------------------------------------------------------------------------------------------------------|-------------------------------------------------------------------------------------------------------------------------------------------------------------------------------------------------------------------------|-------------------------------------------------------------------------------------------------------------------------------------------------------------------------------------------------------------------------------|-------------------------------------------------------------------------------------------------------------------------------------------------------------------------------------------------------|\n",
    "| Style, organization and clarity<br>(1 mark)  | The document is not<br> organized in the proposed sections<br><br><br>There is no coherence in<br> ideas and explanations<br><br>References are not present. | There is a certain coherence<br> in ideas and explanations<br><br><br><br>Missing sections<br> or inadequate organization               | There is a certain coherence<br> in ideas and explanation <br><br><br>No missing sections<br><br> Adequate use of figures and tables                        | Ideas and explanations<br> are coherent<br><br>No missing sections <br><br> Adequate use of figures and tables        |\n",
    "| Related work <br>(1 mark) | No discussion or it is <br> incoherent | 1 article is described adequately | 3 articles are described adequately  | 4-5 articles described adequately  |\n",
    "| Genetic design and<br> implementation <br> (3 marks)                 | Non working implementation<br>  no merit <br> or plagiarized                                                                              | Basic genetic operators<br><br>Basic description | Basic genetic operators<br><br>Detailed description | Original genetic operators<br><br>Detailed description <br><br> Documented code                   |\n",
    "| Tournament  (3 marks) | Non-working <br> Does not adhere to template <br> | Improves random search<br>and greedy | Second to first quartile <br>of the competition | <br> First quartile of<br> the competition|\n",
    "| Experiments <br> (2 marks) | No experiments, no merit,<br> or non-functional | Provided functional code for<br>experiments | Provided functional code for<br>experiments<br><br> Experimental results explained in report | Provided functional code for<br>experiments<br><br> Experimental results explained in report <br><br>Correct methodology for analysis |"
   ]
  },
  {
   "cell_type": "code",
   "execution_count": null,
   "metadata": {
    "id": "443o5yRaxG7g"
   },
   "outputs": [],
   "source": []
  }
 ],
 "metadata": {
  "colab": {
   "provenance": [],
   "toc_visible": true
  },
  "kernelspec": {
   "display_name": "Python 3 (ipykernel)",
   "language": "python",
   "name": "python3"
  },
  "language_info": {
   "codemirror_mode": {
    "name": "ipython",
    "version": 3
   },
   "file_extension": ".py",
   "mimetype": "text/x-python",
   "name": "python",
   "nbconvert_exporter": "python",
   "pygments_lexer": "ipython3",
   "version": "3.9.13"
  }
 },
 "nbformat": 4,
 "nbformat_minor": 1
}
