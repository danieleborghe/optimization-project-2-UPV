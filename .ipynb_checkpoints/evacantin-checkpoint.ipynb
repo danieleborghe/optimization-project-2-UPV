{
 "cells": [
  {
   "cell_type": "code",
   "execution_count": 20,
   "id": "f4ebba03",
   "metadata": {},
   "outputs": [
    {
     "ename": "IndentationError",
     "evalue": "unindent does not match any outer indentation level (<tokenize>, line 25)",
     "output_type": "error",
     "traceback": [
      "\u001b[1;36m  File \u001b[1;32m<tokenize>:25\u001b[1;36m\u001b[0m\n\u001b[1;33m    \"\"\"\u001b[0m\n\u001b[1;37m    ^\u001b[0m\n\u001b[1;31mIndentationError\u001b[0m\u001b[1;31m:\u001b[0m unindent does not match any outer indentation level\n"
     ]
    }
   ],
   "source": [
    "class Individual:\n",
    "    def __init__(self, route):\n",
    "        self.route = route\n",
    "        self.fitness = 0  # Initialize fitness score\n",
    "\n",
    "class GA:\n",
    "    def __init__(self, time_deadline, problem_path, population_size=100, selection_method='roulette_wheel', **kwargs):\n",
    "        self.problem_path = problem_path\n",
    "        self.best_solution = None\n",
    "        self.time_deadline = time_deadline\n",
    "        self.population_size = population_size\n",
    "        self.selection_method = selection_method\n",
    "        # Other attributes and configurations\n",
    "\n",
    "        self.population = []  # Initialize the population here\n",
    "\n",
    "    #def read_problem_instance(self, problem_path):\n",
    "        # Read the problem instance and set up necessary attributes\n",
    "\n",
    "    def calculate_fitness(self, individual):\n",
    "        # Implement the fitness calculation specific to your problem\n",
    "        total_distance = calculate_total_distance(individual.route)\n",
    "        individual.fitness = 1 / total_distance  # For instance, higher fitness for shorter distances\n",
    "\n",
    " \"\"\"   \n",
    "    def initialize_population(self):\n",
    "        # Initialize the population with individuals\n",
    "        # Here you would create instances of the Individual class with specific routes\n",
    "\n",
    "    def run(self):\n",
    "        self.read_problem_instance(self.problem_path)\n",
    "        self.initialize_population()\n",
    "\n",
    "        # Calculate fitness for each individual in the population\n",
    "        for individual in self.population:\n",
    "            self.calculate_fitness(individual)\n",
    "\n",
    "        # Rest of the genetic algorithm logic\n",
    "\"\"\""
   ]
  },
  {
   "cell_type": "markdown",
   "id": "bf8d6132",
   "metadata": {},
   "source": [
    "## Parent selection"
   ]
  },
  {
   "cell_type": "markdown",
   "id": "d636bf34",
   "metadata": {},
   "source": [
    "Another fundamental heuristic in a genetic algorithm is the selection opetaror. This operator is in charge of selecting the solutions in the population that will be selected as parents. The selection operator, along with the replacement operator, indirectly determine the genetic material that will prevail in the population for the next generations. In reality, these two heuristics, and the fact that the population size is bounded, are the mechanisms responsible of introducing competition among individuals and, therefore, produce a gradual improvement of the population's fitness. More specifically, the selection operator typically determines the solutions that will participate in both crossover and mutation operations."
   ]
  },
  {
   "cell_type": "markdown",
   "id": "2fc4c4d9",
   "metadata": {},
   "source": [
    "### 1. Fitness proportional selection\n",
    "\n",
    "https://radhajayaraman11.medium.com/feature-selection-using-genetic-algorithm-2f915d1349b0"
   ]
  },
  {
   "cell_type": "code",
   "execution_count": 26,
   "id": "34460f78",
   "metadata": {},
   "outputs": [],
   "source": [
    "def roulette_wheel_selection(self):\n",
    "    total_fitness = sum(individual.fitness for individual in self.population)\n",
    "    selection_probs = [individual.fitness / total_fitness for individual in self.population]\n",
    "\n",
    "    selected_parents = []\n",
    "    for _ in range(self.population_size):\n",
    "        rand_val = random.random()  # Generate a random value between 0 and 1\n",
    "        cumulative_prob = 0\n",
    "        for i, prob in enumerate(selection_probs):\n",
    "            cumulative_prob += prob\n",
    "            if rand_val <= cumulative_prob:\n",
    "                selected_parents.append(population[i])\n",
    "                break\n",
    "\n",
    "    return selected_parents"
   ]
  },
  {
   "cell_type": "code",
   "execution_count": 27,
   "id": "6ca22ddc",
   "metadata": {},
   "outputs": [],
   "source": [
    "def linear_ranking_selection(self, s=1.5):\n",
    "        sorted_population = sorted(self.population, key=lambda x: x.fitness, reverse=True)\n",
    "        selection_probs = []\n",
    "\n",
    "        for i, _ in enumerate(sorted_population):\n",
    "            prob = (2 - s) / self.population_size + (2 * i * (s - 1)) / (self.population_size * (self.population_size - 1))\n",
    "            selection_probs.append(prob)\n",
    "\n",
    "        selected_parents = []\n",
    "        for _ in range(self.population_size):\n",
    "            rand_val = random.random()  # Generate a random value between 0 and 1\n",
    "            cumulative_prob = 0\n",
    "            for i, prob in enumerate(selection_probs):\n",
    "                cumulative_prob += prob\n",
    "                if rand_val <= cumulative_prob:\n",
    "                    selected_parents.append(sorted_population[i])\n",
    "                    break\n",
    "\n",
    "        return selected_parents"
   ]
  },
  {
   "cell_type": "code",
   "execution_count": 28,
   "id": "7034706a",
   "metadata": {},
   "outputs": [],
   "source": [
    "def exponential_ranking_selection(self, c=0.6):\n",
    "        sorted_population = sorted(self.population_size, key=lambda x: x.fitness, reverse=True)\n",
    "        selection_probs = []\n",
    "\n",
    "        for i, _ in enumerate(sorted_population):\n",
    "            prob = (c - 1) / ((c ** self.population_size) - 1) * (c ** self.population_size - i - 1)\n",
    "            selection_probs.append(prob)\n",
    "\n",
    "        selected_parents = []\n",
    "        for _ in range(self.population_size):\n",
    "            rand_val = random.random()  # Generate a random value between 0 and 1\n",
    "            cumulative_prob = 0\n",
    "            for i, prob in enumerate(selection_probs):\n",
    "                cumulative_prob += prob\n",
    "                if rand_val <= cumulative_prob:\n",
    "                    selected_parents.append(sorted_population[i])\n",
    "                    break\n",
    "\n",
    "        return selected_parents"
   ]
  },
  {
   "cell_type": "code",
   "execution_count": null,
   "id": "bd7cc1b5",
   "metadata": {},
   "outputs": [],
   "source": []
  },
  {
   "cell_type": "code",
   "execution_count": 29,
   "id": "cf7d798d",
   "metadata": {},
   "outputs": [],
   "source": [
    "def select_parents(self, population):\n",
    "    if self.selection_method == 'roulette_wheel':\n",
    "        return self.roulette_wheel_selection(population)\n",
    "    elif self.selection_method == 'linear_ranking':\n",
    "        return self.linear_ranking_selection(population)\n",
    "    elif self.selection_method == 'exponential_ranking':\n",
    "        return self.exponential_ranking_selection()"
   ]
  },
  {
   "cell_type": "code",
   "execution_count": null,
   "id": "528560c5",
   "metadata": {},
   "outputs": [],
   "source": []
  }
 ],
 "metadata": {
  "kernelspec": {
   "display_name": "Python 3 (ipykernel)",
   "language": "python",
   "name": "python3"
  },
  "language_info": {
   "codemirror_mode": {
    "name": "ipython",
    "version": 3
   },
   "file_extension": ".py",
   "mimetype": "text/x-python",
   "name": "python",
   "nbconvert_exporter": "python",
   "pygments_lexer": "ipython3",
   "version": "3.9.13"
  }
 },
 "nbformat": 4,
 "nbformat_minor": 5
}
